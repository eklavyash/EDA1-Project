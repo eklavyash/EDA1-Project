{
 "cells": [
  {
   "cell_type": "code",
   "execution_count": 1,
   "id": "f6286b1c-f131-471e-8fe4-79e9cc099886",
   "metadata": {},
   "outputs": [],
   "source": [
    "#Importing all import python libraries\n",
    "import numpy as np\n",
    "import pandas as pd\n",
    "import matplotlib\n",
    "import matplotlib.pyplot as plt\n",
    "import seaborn as sns\n",
    "import re\n",
    "%matplotlib inline"
   ]
  },
  {
   "cell_type": "markdown",
   "id": "474111ae-e897-4e8c-9725-80371537fc4b",
   "metadata": {},
   "source": [
    "Load the dataset"
   ]
  },
  {
   "cell_type": "code",
   "execution_count": 3,
   "id": "cf2ec5f2-29a8-4ba3-b594-529edaa8cf67",
   "metadata": {
    "scrolled": true
   },
   "outputs": [],
   "source": [
    "gf = pd.read_csv(r\"C:\\Users\\YASH\\Downloads\\gapminder_full.csv\") #gf: gapmindr_full \n",
    "gg = pd.read_csv(r\"C:\\Users\\YASH\\Downloads\\gapminder_gapminder.csv\") # gg: gapminder_gapminder"
   ]
  },
  {
   "cell_type": "markdown",
   "id": "97027bab-a0af-4b2b-93d0-948e7ff9da92",
   "metadata": {},
   "source": [
    "Display the first few rows"
   ]
  },
  {
   "cell_type": "code",
   "execution_count": 5,
   "id": "90c94597-697f-4161-9c1a-b55216797366",
   "metadata": {
    "scrolled": true
   },
   "outputs": [
    {
     "data": {
      "text/html": [
       "<div>\n",
       "<style scoped>\n",
       "    .dataframe tbody tr th:only-of-type {\n",
       "        vertical-align: middle;\n",
       "    }\n",
       "\n",
       "    .dataframe tbody tr th {\n",
       "        vertical-align: top;\n",
       "    }\n",
       "\n",
       "    .dataframe thead th {\n",
       "        text-align: right;\n",
       "    }\n",
       "</style>\n",
       "<table border=\"1\" class=\"dataframe\">\n",
       "  <thead>\n",
       "    <tr style=\"text-align: right;\">\n",
       "      <th></th>\n",
       "      <th>country</th>\n",
       "      <th>year</th>\n",
       "      <th>population</th>\n",
       "      <th>continent</th>\n",
       "      <th>life_exp</th>\n",
       "      <th>gdp_cap</th>\n",
       "    </tr>\n",
       "  </thead>\n",
       "  <tbody>\n",
       "    <tr>\n",
       "      <th>0</th>\n",
       "      <td>Afghanistan</td>\n",
       "      <td>1952</td>\n",
       "      <td>8425333</td>\n",
       "      <td>Asia</td>\n",
       "      <td>28.801</td>\n",
       "      <td>779.445314</td>\n",
       "    </tr>\n",
       "    <tr>\n",
       "      <th>1</th>\n",
       "      <td>Afghanistan</td>\n",
       "      <td>1957</td>\n",
       "      <td>9240934</td>\n",
       "      <td>Asia</td>\n",
       "      <td>30.332</td>\n",
       "      <td>820.853030</td>\n",
       "    </tr>\n",
       "    <tr>\n",
       "      <th>2</th>\n",
       "      <td>Afghanistan</td>\n",
       "      <td>1962</td>\n",
       "      <td>10267083</td>\n",
       "      <td>Asia</td>\n",
       "      <td>31.997</td>\n",
       "      <td>853.100710</td>\n",
       "    </tr>\n",
       "    <tr>\n",
       "      <th>3</th>\n",
       "      <td>Afghanistan</td>\n",
       "      <td>1967</td>\n",
       "      <td>11537966</td>\n",
       "      <td>Asia</td>\n",
       "      <td>34.020</td>\n",
       "      <td>836.197138</td>\n",
       "    </tr>\n",
       "    <tr>\n",
       "      <th>4</th>\n",
       "      <td>Afghanistan</td>\n",
       "      <td>1972</td>\n",
       "      <td>13079460</td>\n",
       "      <td>Asia</td>\n",
       "      <td>36.088</td>\n",
       "      <td>739.981106</td>\n",
       "    </tr>\n",
       "  </tbody>\n",
       "</table>\n",
       "</div>"
      ],
      "text/plain": [
       "       country  year  population continent  life_exp     gdp_cap\n",
       "0  Afghanistan  1952     8425333      Asia    28.801  779.445314\n",
       "1  Afghanistan  1957     9240934      Asia    30.332  820.853030\n",
       "2  Afghanistan  1962    10267083      Asia    31.997  853.100710\n",
       "3  Afghanistan  1967    11537966      Asia    34.020  836.197138\n",
       "4  Afghanistan  1972    13079460      Asia    36.088  739.981106"
      ]
     },
     "execution_count": 5,
     "metadata": {},
     "output_type": "execute_result"
    }
   ],
   "source": [
    "gf.head()"
   ]
  },
  {
   "cell_type": "code",
   "execution_count": 6,
   "id": "24077f83-c800-467c-bf60-c21fc129f6ad",
   "metadata": {},
   "outputs": [
    {
     "name": "stdout",
     "output_type": "stream",
     "text": [
      "<class 'pandas.core.frame.DataFrame'>\n",
      "RangeIndex: 1704 entries, 0 to 1703\n",
      "Data columns (total 6 columns):\n",
      " #   Column      Non-Null Count  Dtype  \n",
      "---  ------      --------------  -----  \n",
      " 0   country     1704 non-null   object \n",
      " 1   year        1704 non-null   int64  \n",
      " 2   population  1704 non-null   int64  \n",
      " 3   continent   1704 non-null   object \n",
      " 4   life_exp    1704 non-null   float64\n",
      " 5   gdp_cap     1704 non-null   float64\n",
      "dtypes: float64(2), int64(2), object(2)\n",
      "memory usage: 80.0+ KB\n"
     ]
    }
   ],
   "source": [
    "gf.info()"
   ]
  },
  {
   "cell_type": "code",
   "execution_count": 7,
   "id": "28f4b6a6-20cc-402f-a553-19044d518ef7",
   "metadata": {
    "scrolled": true
   },
   "outputs": [
    {
     "data": {
      "text/html": [
       "<div>\n",
       "<style scoped>\n",
       "    .dataframe tbody tr th:only-of-type {\n",
       "        vertical-align: middle;\n",
       "    }\n",
       "\n",
       "    .dataframe tbody tr th {\n",
       "        vertical-align: top;\n",
       "    }\n",
       "\n",
       "    .dataframe thead th {\n",
       "        text-align: right;\n",
       "    }\n",
       "</style>\n",
       "<table border=\"1\" class=\"dataframe\">\n",
       "  <thead>\n",
       "    <tr style=\"text-align: right;\">\n",
       "      <th></th>\n",
       "      <th>Unnamed: 0</th>\n",
       "      <th>country</th>\n",
       "      <th>continent</th>\n",
       "      <th>year</th>\n",
       "      <th>population</th>\n",
       "      <th>life_exp</th>\n",
       "      <th>gdp_cap</th>\n",
       "    </tr>\n",
       "  </thead>\n",
       "  <tbody>\n",
       "    <tr>\n",
       "      <th>0</th>\n",
       "      <td>11</td>\n",
       "      <td>Afghanistan</td>\n",
       "      <td>Asia</td>\n",
       "      <td>2007</td>\n",
       "      <td>31889923</td>\n",
       "      <td>43.828</td>\n",
       "      <td>974.580338</td>\n",
       "    </tr>\n",
       "    <tr>\n",
       "      <th>1</th>\n",
       "      <td>23</td>\n",
       "      <td>Albania</td>\n",
       "      <td>Europe</td>\n",
       "      <td>2007</td>\n",
       "      <td>3600523</td>\n",
       "      <td>76.423</td>\n",
       "      <td>5937.029526</td>\n",
       "    </tr>\n",
       "    <tr>\n",
       "      <th>2</th>\n",
       "      <td>35</td>\n",
       "      <td>Algeria</td>\n",
       "      <td>Africa</td>\n",
       "      <td>2007</td>\n",
       "      <td>33333216</td>\n",
       "      <td>72.301</td>\n",
       "      <td>6223.367465</td>\n",
       "    </tr>\n",
       "    <tr>\n",
       "      <th>3</th>\n",
       "      <td>47</td>\n",
       "      <td>Angola</td>\n",
       "      <td>Africa</td>\n",
       "      <td>2007</td>\n",
       "      <td>12420476</td>\n",
       "      <td>42.731</td>\n",
       "      <td>4797.231267</td>\n",
       "    </tr>\n",
       "    <tr>\n",
       "      <th>4</th>\n",
       "      <td>59</td>\n",
       "      <td>Argentina</td>\n",
       "      <td>Americas</td>\n",
       "      <td>2007</td>\n",
       "      <td>40301927</td>\n",
       "      <td>75.320</td>\n",
       "      <td>12779.379640</td>\n",
       "    </tr>\n",
       "  </tbody>\n",
       "</table>\n",
       "</div>"
      ],
      "text/plain": [
       "   Unnamed: 0      country continent  year  population  life_exp       gdp_cap\n",
       "0          11  Afghanistan      Asia  2007    31889923    43.828    974.580338\n",
       "1          23      Albania    Europe  2007     3600523    76.423   5937.029526\n",
       "2          35      Algeria    Africa  2007    33333216    72.301   6223.367465\n",
       "3          47       Angola    Africa  2007    12420476    42.731   4797.231267\n",
       "4          59    Argentina  Americas  2007    40301927    75.320  12779.379640"
      ]
     },
     "execution_count": 7,
     "metadata": {},
     "output_type": "execute_result"
    }
   ],
   "source": [
    "gg.head()"
   ]
  },
  {
   "cell_type": "code",
   "execution_count": 8,
   "id": "0ae31dca-23bf-4886-a72a-883cdc33bc3b",
   "metadata": {},
   "outputs": [
    {
     "name": "stdout",
     "output_type": "stream",
     "text": [
      "<class 'pandas.core.frame.DataFrame'>\n",
      "RangeIndex: 142 entries, 0 to 141\n",
      "Data columns (total 7 columns):\n",
      " #   Column      Non-Null Count  Dtype  \n",
      "---  ------      --------------  -----  \n",
      " 0   Unnamed: 0  142 non-null    int64  \n",
      " 1   country     142 non-null    object \n",
      " 2   continent   142 non-null    object \n",
      " 3   year        142 non-null    int64  \n",
      " 4   population  142 non-null    int64  \n",
      " 5   life_exp    142 non-null    float64\n",
      " 6   gdp_cap     142 non-null    float64\n",
      "dtypes: float64(2), int64(3), object(2)\n",
      "memory usage: 7.9+ KB\n"
     ]
    }
   ],
   "source": [
    "gg.info()"
   ]
  },
  {
   "cell_type": "raw",
   "id": "a784a61b-c3d4-4dd2-ba3c-2d48e71d5e65",
   "metadata": {},
   "source": []
  },
  {
   "cell_type": "markdown",
   "id": "720a2e6e-43cb-42b9-a595-7571d1384f58",
   "metadata": {},
   "source": [
    " "
   ]
  },
  {
   "cell_type": "markdown",
   "id": "4ecb5b83-9fba-47cf-9898-71ad1223213c",
   "metadata": {},
   "source": [
    "#### Objectives"
   ]
  },
  {
   "cell_type": "markdown",
   "id": "9bdcb387-706d-4971-8daa-71aa5bc6b039",
   "metadata": {},
   "source": [
    "**1.** How many countries does the dataset have?"
   ]
  },
  {
   "cell_type": "code",
   "execution_count": 12,
   "id": "3e318afb-ed4a-4df3-8392-5640d47dfb31",
   "metadata": {},
   "outputs": [
    {
     "data": {
      "text/plain": [
       "142"
      ]
     },
     "execution_count": 12,
     "metadata": {},
     "output_type": "execute_result"
    }
   ],
   "source": [
    "gf['country'].nunique()"
   ]
  },
  {
   "cell_type": "markdown",
   "id": "33e92b46-5699-4b06-9afc-3c5846e9db8c",
   "metadata": {},
   "source": [
    "**2.** Create a pivot table that shows the average life expectancy for each continent and year. Index by 'continent', use 'year' as columns, and 'life_exp' as values."
   ]
  },
  {
   "cell_type": "code",
   "execution_count": 14,
   "id": "47e08ca8-17c1-4df7-bef6-ff96a5910b6b",
   "metadata": {},
   "outputs": [
    {
     "data": {
      "text/html": [
       "<div>\n",
       "<style scoped>\n",
       "    .dataframe tbody tr th:only-of-type {\n",
       "        vertical-align: middle;\n",
       "    }\n",
       "\n",
       "    .dataframe tbody tr th {\n",
       "        vertical-align: top;\n",
       "    }\n",
       "\n",
       "    .dataframe thead th {\n",
       "        text-align: right;\n",
       "    }\n",
       "</style>\n",
       "<table border=\"1\" class=\"dataframe\">\n",
       "  <thead>\n",
       "    <tr style=\"text-align: right;\">\n",
       "      <th>year</th>\n",
       "      <th>1952</th>\n",
       "      <th>1957</th>\n",
       "      <th>1962</th>\n",
       "      <th>1967</th>\n",
       "      <th>1972</th>\n",
       "      <th>1977</th>\n",
       "      <th>1982</th>\n",
       "      <th>1987</th>\n",
       "      <th>1992</th>\n",
       "      <th>1997</th>\n",
       "      <th>2002</th>\n",
       "      <th>2007</th>\n",
       "    </tr>\n",
       "    <tr>\n",
       "      <th>continent</th>\n",
       "      <th></th>\n",
       "      <th></th>\n",
       "      <th></th>\n",
       "      <th></th>\n",
       "      <th></th>\n",
       "      <th></th>\n",
       "      <th></th>\n",
       "      <th></th>\n",
       "      <th></th>\n",
       "      <th></th>\n",
       "      <th></th>\n",
       "      <th></th>\n",
       "    </tr>\n",
       "  </thead>\n",
       "  <tbody>\n",
       "    <tr>\n",
       "      <th>Africa</th>\n",
       "      <td>39.135500</td>\n",
       "      <td>41.266346</td>\n",
       "      <td>43.319442</td>\n",
       "      <td>45.334538</td>\n",
       "      <td>47.450942</td>\n",
       "      <td>49.580423</td>\n",
       "      <td>51.592865</td>\n",
       "      <td>53.344788</td>\n",
       "      <td>53.629577</td>\n",
       "      <td>53.598269</td>\n",
       "      <td>53.325231</td>\n",
       "      <td>54.806038</td>\n",
       "    </tr>\n",
       "    <tr>\n",
       "      <th>Americas</th>\n",
       "      <td>53.279840</td>\n",
       "      <td>55.960280</td>\n",
       "      <td>58.398760</td>\n",
       "      <td>60.410920</td>\n",
       "      <td>62.394920</td>\n",
       "      <td>64.391560</td>\n",
       "      <td>66.228840</td>\n",
       "      <td>68.090720</td>\n",
       "      <td>69.568360</td>\n",
       "      <td>71.150480</td>\n",
       "      <td>72.422040</td>\n",
       "      <td>73.608120</td>\n",
       "    </tr>\n",
       "    <tr>\n",
       "      <th>Asia</th>\n",
       "      <td>46.314394</td>\n",
       "      <td>49.318544</td>\n",
       "      <td>51.563223</td>\n",
       "      <td>54.663640</td>\n",
       "      <td>57.319269</td>\n",
       "      <td>59.610556</td>\n",
       "      <td>62.617939</td>\n",
       "      <td>64.851182</td>\n",
       "      <td>66.537212</td>\n",
       "      <td>68.020515</td>\n",
       "      <td>69.233879</td>\n",
       "      <td>70.728485</td>\n",
       "    </tr>\n",
       "    <tr>\n",
       "      <th>Europe</th>\n",
       "      <td>64.408500</td>\n",
       "      <td>66.703067</td>\n",
       "      <td>68.539233</td>\n",
       "      <td>69.737600</td>\n",
       "      <td>70.775033</td>\n",
       "      <td>71.937767</td>\n",
       "      <td>72.806400</td>\n",
       "      <td>73.642167</td>\n",
       "      <td>74.440100</td>\n",
       "      <td>75.505167</td>\n",
       "      <td>76.700600</td>\n",
       "      <td>77.648600</td>\n",
       "    </tr>\n",
       "    <tr>\n",
       "      <th>Oceania</th>\n",
       "      <td>69.255000</td>\n",
       "      <td>70.295000</td>\n",
       "      <td>71.085000</td>\n",
       "      <td>71.310000</td>\n",
       "      <td>71.910000</td>\n",
       "      <td>72.855000</td>\n",
       "      <td>74.290000</td>\n",
       "      <td>75.320000</td>\n",
       "      <td>76.945000</td>\n",
       "      <td>78.190000</td>\n",
       "      <td>79.740000</td>\n",
       "      <td>80.719500</td>\n",
       "    </tr>\n",
       "  </tbody>\n",
       "</table>\n",
       "</div>"
      ],
      "text/plain": [
       "year            1952       1957       1962       1967       1972       1977  \\\n",
       "continent                                                                     \n",
       "Africa     39.135500  41.266346  43.319442  45.334538  47.450942  49.580423   \n",
       "Americas   53.279840  55.960280  58.398760  60.410920  62.394920  64.391560   \n",
       "Asia       46.314394  49.318544  51.563223  54.663640  57.319269  59.610556   \n",
       "Europe     64.408500  66.703067  68.539233  69.737600  70.775033  71.937767   \n",
       "Oceania    69.255000  70.295000  71.085000  71.310000  71.910000  72.855000   \n",
       "\n",
       "year            1982       1987       1992       1997       2002       2007  \n",
       "continent                                                                    \n",
       "Africa     51.592865  53.344788  53.629577  53.598269  53.325231  54.806038  \n",
       "Americas   66.228840  68.090720  69.568360  71.150480  72.422040  73.608120  \n",
       "Asia       62.617939  64.851182  66.537212  68.020515  69.233879  70.728485  \n",
       "Europe     72.806400  73.642167  74.440100  75.505167  76.700600  77.648600  \n",
       "Oceania    74.290000  75.320000  76.945000  78.190000  79.740000  80.719500  "
      ]
     },
     "execution_count": 14,
     "metadata": {},
     "output_type": "execute_result"
    }
   ],
   "source": [
    "pivot = pd.pivot_table(gf,values='life_exp',index='continent',columns='year')\n",
    "pivot"
   ]
  },
  {
   "cell_type": "markdown",
   "id": "c92da8fd-40aa-437a-b033-9eb2438686dc",
   "metadata": {},
   "source": [
    "**3.** Which countries had a GDP per capita higher than the 75th percentile in 2007?"
   ]
  },
  {
   "cell_type": "code",
   "execution_count": 16,
   "id": "4d317984-fd11-4ef5-8d53-8339416fe723",
   "metadata": {
    "scrolled": true
   },
   "outputs": [
    {
     "name": "stdout",
     "output_type": "stream",
     "text": [
      "75th percentile value: 18008.84\n"
     ]
    }
   ],
   "source": [
    "#filtering the year\n",
    "df_3 = gf[gf['year']==2007]\n",
    "\n",
    "#finding out and storing 75th percentile value in a variable\n",
    "value = df_3['gdp_cap'].quantile(0.75)\n",
    "print(f\"75th percentile value: {value.round(2)}\")"
   ]
  },
  {
   "cell_type": "code",
   "execution_count": 17,
   "id": "ec4266f5-9068-4a79-b88b-8cb076d687f4",
   "metadata": {},
   "outputs": [
    {
     "data": {
      "text/plain": [
       "array(['Australia', 'Austria', 'Bahrain', 'Belgium', 'Canada',\n",
       "       'Czech Republic', 'Denmark', 'Finland', 'France', 'Germany',\n",
       "       'Greece', 'Hong Kong, China', 'Hungary', 'Iceland', 'Ireland',\n",
       "       'Israel', 'Italy', 'Japan', 'Korea, Rep.', 'Kuwait', 'Netherlands',\n",
       "       'New Zealand', 'Norway', 'Oman', 'Portugal', 'Puerto Rico',\n",
       "       'Saudi Arabia', 'Singapore', 'Slovak Republic', 'Slovenia',\n",
       "       'Spain', 'Sweden', 'Switzerland', 'Taiwan', 'United Kingdom',\n",
       "       'United States'], dtype=object)"
      ]
     },
     "execution_count": 17,
     "metadata": {},
     "output_type": "execute_result"
    }
   ],
   "source": [
    "#filtering out dataframe for gdp value condition  \n",
    "df_3 = df_3[df_3['gdp_cap']>value]\n",
    "# printing countries\n",
    "df_3['country'].unique()"
   ]
  },
  {
   "cell_type": "markdown",
   "id": "63c3ed12-0600-459d-9103-d29d0c11ff7f",
   "metadata": {},
   "source": [
    "**4.** Categorize the 'life_exp' into 4 equally ranged bins from 'Low' to 'Very High'. Use cut to create these categorical life expectancy groups and add them as a new column 'Life_Exp_Range'."
   ]
  },
  {
   "cell_type": "code",
   "execution_count": 19,
   "id": "14f3f5fa-910a-42c8-b0c7-f290fef83497",
   "metadata": {
    "scrolled": true
   },
   "outputs": [
    {
     "data": {
      "text/html": [
       "<div>\n",
       "<style scoped>\n",
       "    .dataframe tbody tr th:only-of-type {\n",
       "        vertical-align: middle;\n",
       "    }\n",
       "\n",
       "    .dataframe tbody tr th {\n",
       "        vertical-align: top;\n",
       "    }\n",
       "\n",
       "    .dataframe thead th {\n",
       "        text-align: right;\n",
       "    }\n",
       "</style>\n",
       "<table border=\"1\" class=\"dataframe\">\n",
       "  <thead>\n",
       "    <tr style=\"text-align: right;\">\n",
       "      <th></th>\n",
       "      <th>country</th>\n",
       "      <th>year</th>\n",
       "      <th>population</th>\n",
       "      <th>continent</th>\n",
       "      <th>life_exp</th>\n",
       "      <th>gdp_cap</th>\n",
       "      <th>Life_Exp_Range</th>\n",
       "    </tr>\n",
       "  </thead>\n",
       "  <tbody>\n",
       "    <tr>\n",
       "      <th>0</th>\n",
       "      <td>Afghanistan</td>\n",
       "      <td>1952</td>\n",
       "      <td>8425333</td>\n",
       "      <td>Asia</td>\n",
       "      <td>28.801</td>\n",
       "      <td>779.445314</td>\n",
       "      <td>Medium</td>\n",
       "    </tr>\n",
       "    <tr>\n",
       "      <th>1</th>\n",
       "      <td>Afghanistan</td>\n",
       "      <td>1957</td>\n",
       "      <td>9240934</td>\n",
       "      <td>Asia</td>\n",
       "      <td>30.332</td>\n",
       "      <td>820.853030</td>\n",
       "      <td>Medium</td>\n",
       "    </tr>\n",
       "    <tr>\n",
       "      <th>2</th>\n",
       "      <td>Afghanistan</td>\n",
       "      <td>1962</td>\n",
       "      <td>10267083</td>\n",
       "      <td>Asia</td>\n",
       "      <td>31.997</td>\n",
       "      <td>853.100710</td>\n",
       "      <td>Medium</td>\n",
       "    </tr>\n",
       "    <tr>\n",
       "      <th>3</th>\n",
       "      <td>Afghanistan</td>\n",
       "      <td>1967</td>\n",
       "      <td>11537966</td>\n",
       "      <td>Asia</td>\n",
       "      <td>34.020</td>\n",
       "      <td>836.197138</td>\n",
       "      <td>Medium</td>\n",
       "    </tr>\n",
       "    <tr>\n",
       "      <th>4</th>\n",
       "      <td>Afghanistan</td>\n",
       "      <td>1972</td>\n",
       "      <td>13079460</td>\n",
       "      <td>Asia</td>\n",
       "      <td>36.088</td>\n",
       "      <td>739.981106</td>\n",
       "      <td>Medium</td>\n",
       "    </tr>\n",
       "    <tr>\n",
       "      <th>...</th>\n",
       "      <td>...</td>\n",
       "      <td>...</td>\n",
       "      <td>...</td>\n",
       "      <td>...</td>\n",
       "      <td>...</td>\n",
       "      <td>...</td>\n",
       "      <td>...</td>\n",
       "    </tr>\n",
       "    <tr>\n",
       "      <th>1699</th>\n",
       "      <td>Zimbabwe</td>\n",
       "      <td>1987</td>\n",
       "      <td>9216418</td>\n",
       "      <td>Africa</td>\n",
       "      <td>62.351</td>\n",
       "      <td>706.157306</td>\n",
       "      <td>High</td>\n",
       "    </tr>\n",
       "    <tr>\n",
       "      <th>1700</th>\n",
       "      <td>Zimbabwe</td>\n",
       "      <td>1992</td>\n",
       "      <td>10704340</td>\n",
       "      <td>Africa</td>\n",
       "      <td>60.377</td>\n",
       "      <td>693.420786</td>\n",
       "      <td>High</td>\n",
       "    </tr>\n",
       "    <tr>\n",
       "      <th>1701</th>\n",
       "      <td>Zimbabwe</td>\n",
       "      <td>1997</td>\n",
       "      <td>11404948</td>\n",
       "      <td>Africa</td>\n",
       "      <td>46.809</td>\n",
       "      <td>792.449960</td>\n",
       "      <td>Medium</td>\n",
       "    </tr>\n",
       "    <tr>\n",
       "      <th>1702</th>\n",
       "      <td>Zimbabwe</td>\n",
       "      <td>2002</td>\n",
       "      <td>11926563</td>\n",
       "      <td>Africa</td>\n",
       "      <td>39.989</td>\n",
       "      <td>672.038623</td>\n",
       "      <td>Medium</td>\n",
       "    </tr>\n",
       "    <tr>\n",
       "      <th>1703</th>\n",
       "      <td>Zimbabwe</td>\n",
       "      <td>2007</td>\n",
       "      <td>12311143</td>\n",
       "      <td>Africa</td>\n",
       "      <td>43.487</td>\n",
       "      <td>469.709298</td>\n",
       "      <td>Medium</td>\n",
       "    </tr>\n",
       "  </tbody>\n",
       "</table>\n",
       "<p>1704 rows × 7 columns</p>\n",
       "</div>"
      ],
      "text/plain": [
       "          country  year  population continent  life_exp     gdp_cap  \\\n",
       "0     Afghanistan  1952     8425333      Asia    28.801  779.445314   \n",
       "1     Afghanistan  1957     9240934      Asia    30.332  820.853030   \n",
       "2     Afghanistan  1962    10267083      Asia    31.997  853.100710   \n",
       "3     Afghanistan  1967    11537966      Asia    34.020  836.197138   \n",
       "4     Afghanistan  1972    13079460      Asia    36.088  739.981106   \n",
       "...           ...   ...         ...       ...       ...         ...   \n",
       "1699     Zimbabwe  1987     9216418    Africa    62.351  706.157306   \n",
       "1700     Zimbabwe  1992    10704340    Africa    60.377  693.420786   \n",
       "1701     Zimbabwe  1997    11404948    Africa    46.809  792.449960   \n",
       "1702     Zimbabwe  2002    11926563    Africa    39.989  672.038623   \n",
       "1703     Zimbabwe  2007    12311143    Africa    43.487  469.709298   \n",
       "\n",
       "     Life_Exp_Range  \n",
       "0            Medium  \n",
       "1            Medium  \n",
       "2            Medium  \n",
       "3            Medium  \n",
       "4            Medium  \n",
       "...             ...  \n",
       "1699           High  \n",
       "1700           High  \n",
       "1701         Medium  \n",
       "1702         Medium  \n",
       "1703         Medium  \n",
       "\n",
       "[1704 rows x 7 columns]"
      ]
     },
     "execution_count": 19,
     "metadata": {},
     "output_type": "execute_result"
    }
   ],
   "source": [
    "# the edges of the bins for categorizing life expectancy\n",
    "bins=[0,25,50,75,100]\n",
    "# the labels corresponding to each bin\n",
    "labels=[\"Low\",\"Medium\",\"High\",\"Very High\"]\n",
    "# Categorize the 'life_exp' column into the defined bins\n",
    "gf['Life_Exp_Range'] = pd.cut(gf['life_exp'], bins=bins, labels=labels)\n",
    "\n",
    "gf"
   ]
  },
  {
   "cell_type": "markdown",
   "id": "e52b5904-8a5e-467d-8477-62fcc90d73a2",
   "metadata": {},
   "source": [
    "**5.** Identify the top 5 countries with the highest GDP per capita in 2007. Use a horizontal bar chart to display this data."
   ]
  },
  {
   "cell_type": "code",
   "execution_count": 21,
   "id": "34b1df50-d0b8-4e07-98f5-4d4765ee09fb",
   "metadata": {},
   "outputs": [
    {
     "data": {
      "text/html": [
       "<div>\n",
       "<style scoped>\n",
       "    .dataframe tbody tr th:only-of-type {\n",
       "        vertical-align: middle;\n",
       "    }\n",
       "\n",
       "    .dataframe tbody tr th {\n",
       "        vertical-align: top;\n",
       "    }\n",
       "\n",
       "    .dataframe thead th {\n",
       "        text-align: right;\n",
       "    }\n",
       "</style>\n",
       "<table border=\"1\" class=\"dataframe\">\n",
       "  <thead>\n",
       "    <tr style=\"text-align: right;\">\n",
       "      <th></th>\n",
       "      <th>country</th>\n",
       "      <th>gdp_cap</th>\n",
       "      <th>year</th>\n",
       "    </tr>\n",
       "  </thead>\n",
       "  <tbody>\n",
       "    <tr>\n",
       "      <th>1151</th>\n",
       "      <td>Norway</td>\n",
       "      <td>49357.19017</td>\n",
       "      <td>2007</td>\n",
       "    </tr>\n",
       "    <tr>\n",
       "      <th>863</th>\n",
       "      <td>Kuwait</td>\n",
       "      <td>47306.98978</td>\n",
       "      <td>2007</td>\n",
       "    </tr>\n",
       "    <tr>\n",
       "      <th>1367</th>\n",
       "      <td>Singapore</td>\n",
       "      <td>47143.17964</td>\n",
       "      <td>2007</td>\n",
       "    </tr>\n",
       "    <tr>\n",
       "      <th>1619</th>\n",
       "      <td>United States</td>\n",
       "      <td>42951.65309</td>\n",
       "      <td>2007</td>\n",
       "    </tr>\n",
       "    <tr>\n",
       "      <th>755</th>\n",
       "      <td>Ireland</td>\n",
       "      <td>40675.99635</td>\n",
       "      <td>2007</td>\n",
       "    </tr>\n",
       "  </tbody>\n",
       "</table>\n",
       "</div>"
      ],
      "text/plain": [
       "            country      gdp_cap  year\n",
       "1151         Norway  49357.19017  2007\n",
       "863          Kuwait  47306.98978  2007\n",
       "1367      Singapore  47143.17964  2007\n",
       "1619  United States  42951.65309  2007\n",
       "755         Ireland  40675.99635  2007"
      ]
     },
     "execution_count": 21,
     "metadata": {},
     "output_type": "execute_result"
    }
   ],
   "source": [
    "# Filter the dataframe 'gf' to include only the rows where the 'year' column is 2007\n",
    "df_5 = gf[gf['year']==2007]\n",
    "# Sort the filtered dataframe 'df_5' by the 'gdp_cap' column in descending order\n",
    "df_5 = df_5.sort_values(by='gdp_cap',ascending=False)\n",
    "# Display the first 5 rows of the sorted dataframe\n",
    "df_5[['country','gdp_cap','year']].head()"
   ]
  },
  {
   "cell_type": "code",
   "execution_count": 22,
   "id": "99d4de85-dc47-4de5-9d3c-eddd11efdb43",
   "metadata": {},
   "outputs": [
    {
     "data": {
      "image/png": "[encoded data removed]",
      "text/plain": [
       "<Figure size 500x300 with 1 Axes>"
      ]
     },
     "metadata": {},
     "output_type": "display_data"
    }
   ],
   "source": [
    "# storing top 5 countries in new variable\n",
    "data = df_5[['country','gdp_cap']].head()\n",
    "\n",
    "# Add labels and title\n",
    "plt.figure(figsize=(5,3))\n",
    "plt.xlabel('GDP per Capita')\n",
    "plt.ylabel('Country')\n",
    "plt.title('GDP per Capita by Country (2007)')\n",
    "# plotting Horizontal Bar Chart\n",
    "plt.barh(data['country'], data['gdp_cap'], color='#3274a1')\n",
    "# Data Labels\n",
    "for index, value in enumerate(data['gdp_cap']):\n",
    "    plt.text(value, index, f'{value:.0f}', va='center')\n",
    "    \n",
    "plt.show()"
   ]
  },
  {
   "cell_type": "markdown",
   "id": "9b3ba67d-c54f-4e28-8fd9-29c8ee6b6d81",
   "metadata": {},
   "source": [
    "**6.** Find all country names that start with \"I\" and end with \"a\" using regex."
   ]
  },
  {
   "cell_type": "code",
   "execution_count": 24,
   "id": "5d7c2971-bb01-4946-b566-732e22fcb3a3",
   "metadata": {},
   "outputs": [
    {
     "data": {
      "text/plain": [
       "['India', 'Indonesia']"
      ]
     },
     "execution_count": 24,
     "metadata": {},
     "output_type": "execute_result"
    }
   ],
   "source": [
    "# creating string of countries names seperated by space ' ' for regex to operate\n",
    "string_of_countries = ' '.join(gf['country'].unique())\n",
    "# created regex pattern \n",
    "pattern = r'\\bI\\w*a\\b'\n",
    "# finding all list of patterns(country) that matches in string of countries\n",
    "match = re.findall(pattern, string_of_countries)\n",
    "\n",
    "match"
   ]
  },
  {
   "cell_type": "markdown",
   "id": "1906fe0f-2738-4c5c-93fc-5f448ca26834",
   "metadata": {},
   "source": [
    "**7.** Create a boxplot using Seaborn to compare the distribution of GDP per capita for each continent in 2007."
   ]
  },
  {
   "cell_type": "code",
   "execution_count": 26,
   "id": "1928b07b-6df4-463f-9123-162b847ceba6",
   "metadata": {},
   "outputs": [
    {
     "data": {
      "text/html": [
       "<div>\n",
       "<style scoped>\n",
       "    .dataframe tbody tr th:only-of-type {\n",
       "        vertical-align: middle;\n",
       "    }\n",
       "\n",
       "    .dataframe tbody tr th {\n",
       "        vertical-align: top;\n",
       "    }\n",
       "\n",
       "    .dataframe thead th {\n",
       "        text-align: right;\n",
       "    }\n",
       "</style>\n",
       "<table border=\"1\" class=\"dataframe\">\n",
       "  <thead>\n",
       "    <tr style=\"text-align: right;\">\n",
       "      <th></th>\n",
       "      <th>continent</th>\n",
       "      <th>gdp_cap</th>\n",
       "    </tr>\n",
       "  </thead>\n",
       "  <tbody>\n",
       "    <tr>\n",
       "      <th>0</th>\n",
       "      <td>Africa</td>\n",
       "      <td>160629</td>\n",
       "    </tr>\n",
       "    <tr>\n",
       "      <th>1</th>\n",
       "      <td>Americas</td>\n",
       "      <td>275075</td>\n",
       "    </tr>\n",
       "    <tr>\n",
       "      <th>2</th>\n",
       "      <td>Asia</td>\n",
       "      <td>411609</td>\n",
       "    </tr>\n",
       "    <tr>\n",
       "      <th>3</th>\n",
       "      <td>Europe</td>\n",
       "      <td>751634</td>\n",
       "    </tr>\n",
       "    <tr>\n",
       "      <th>4</th>\n",
       "      <td>Oceania</td>\n",
       "      <td>59620</td>\n",
       "    </tr>\n",
       "  </tbody>\n",
       "</table>\n",
       "</div>"
      ],
      "text/plain": [
       "  continent  gdp_cap\n",
       "0    Africa   160629\n",
       "1  Americas   275075\n",
       "2      Asia   411609\n",
       "3    Europe   751634\n",
       "4   Oceania    59620"
      ]
     },
     "execution_count": 26,
     "metadata": {},
     "output_type": "execute_result"
    }
   ],
   "source": [
    "# filtering with year \n",
    "df_7 = gf[gf['year']==2007]\n",
    "# sum of gdp per continent\n",
    "df_7.groupby('continent')['gdp_cap'].sum().astype(int).reset_index()"
   ]
  },
  {
   "cell_type": "code",
   "execution_count": 27,
   "id": "f02f7439-3b1d-421a-b426-800acec04f12",
   "metadata": {},
   "outputs": [
    {
     "data": {
      "image/png": "[encoded data removed]",
      "text/plain": [
       "<Figure size 600x400 with 1 Axes>"
      ]
     },
     "metadata": {},
     "output_type": "display_data"
    }
   ],
   "source": [
    "# box plot using seaborn\n",
    "plt.figure(figsize=(6,4))\n",
    "chart = sns.boxplot(data=df_7,x='continent', y='gdp_cap')"
   ]
  },
  {
   "cell_type": "markdown",
   "id": "7438edf6-7a65-4f7f-ac77-3c610274951f",
   "metadata": {},
   "source": [
    "**8.** Find all countries with a life expectancy of over 80 years in 2007. List these countries and their respective continents.\r\n"
   ]
  },
  {
   "cell_type": "code",
   "execution_count": 29,
   "id": "9539a139-4ee7-4c0d-a5ae-7449e33f3abb",
   "metadata": {},
   "outputs": [
    {
     "data": {
      "text/html": [
       "<div>\n",
       "<style scoped>\n",
       "    .dataframe tbody tr th:only-of-type {\n",
       "        vertical-align: middle;\n",
       "    }\n",
       "\n",
       "    .dataframe tbody tr th {\n",
       "        vertical-align: top;\n",
       "    }\n",
       "\n",
       "    .dataframe thead th {\n",
       "        text-align: right;\n",
       "    }\n",
       "</style>\n",
       "<table border=\"1\" class=\"dataframe\">\n",
       "  <thead>\n",
       "    <tr style=\"text-align: right;\">\n",
       "      <th></th>\n",
       "      <th>country</th>\n",
       "      <th>life_exp</th>\n",
       "    </tr>\n",
       "  </thead>\n",
       "  <tbody>\n",
       "    <tr>\n",
       "      <th>803</th>\n",
       "      <td>Japan</td>\n",
       "      <td>82.603</td>\n",
       "    </tr>\n",
       "    <tr>\n",
       "      <th>671</th>\n",
       "      <td>Hong Kong, China</td>\n",
       "      <td>82.208</td>\n",
       "    </tr>\n",
       "    <tr>\n",
       "      <th>695</th>\n",
       "      <td>Iceland</td>\n",
       "      <td>81.757</td>\n",
       "    </tr>\n",
       "    <tr>\n",
       "      <th>1487</th>\n",
       "      <td>Switzerland</td>\n",
       "      <td>81.701</td>\n",
       "    </tr>\n",
       "    <tr>\n",
       "      <th>71</th>\n",
       "      <td>Australia</td>\n",
       "      <td>81.235</td>\n",
       "    </tr>\n",
       "    <tr>\n",
       "      <th>1427</th>\n",
       "      <td>Spain</td>\n",
       "      <td>80.941</td>\n",
       "    </tr>\n",
       "    <tr>\n",
       "      <th>1475</th>\n",
       "      <td>Sweden</td>\n",
       "      <td>80.884</td>\n",
       "    </tr>\n",
       "    <tr>\n",
       "      <th>767</th>\n",
       "      <td>Israel</td>\n",
       "      <td>80.745</td>\n",
       "    </tr>\n",
       "    <tr>\n",
       "      <th>539</th>\n",
       "      <td>France</td>\n",
       "      <td>80.657</td>\n",
       "    </tr>\n",
       "    <tr>\n",
       "      <th>251</th>\n",
       "      <td>Canada</td>\n",
       "      <td>80.653</td>\n",
       "    </tr>\n",
       "    <tr>\n",
       "      <th>779</th>\n",
       "      <td>Italy</td>\n",
       "      <td>80.546</td>\n",
       "    </tr>\n",
       "    <tr>\n",
       "      <th>1103</th>\n",
       "      <td>New Zealand</td>\n",
       "      <td>80.204</td>\n",
       "    </tr>\n",
       "    <tr>\n",
       "      <th>1151</th>\n",
       "      <td>Norway</td>\n",
       "      <td>80.196</td>\n",
       "    </tr>\n",
       "  </tbody>\n",
       "</table>\n",
       "</div>"
      ],
      "text/plain": [
       "               country  life_exp\n",
       "803              Japan    82.603\n",
       "671   Hong Kong, China    82.208\n",
       "695            Iceland    81.757\n",
       "1487       Switzerland    81.701\n",
       "71           Australia    81.235\n",
       "1427             Spain    80.941\n",
       "1475            Sweden    80.884\n",
       "767             Israel    80.745\n",
       "539             France    80.657\n",
       "251             Canada    80.653\n",
       "779              Italy    80.546\n",
       "1103       New Zealand    80.204\n",
       "1151            Norway    80.196"
      ]
     },
     "execution_count": 29,
     "metadata": {},
     "output_type": "execute_result"
    }
   ],
   "source": [
    "df_8 = gf[gf['year']==2007]\n",
    "df_8 = df_8[['country','life_exp']][df_8['life_exp']>80]\n",
    "\n",
    "#sorting by life expectancy from highest to lowest\n",
    "df_8 = df_8.sort_values(by='life_exp',ascending=False)\n",
    "df_8"
   ]
  },
  {
   "cell_type": "markdown",
   "id": "63d2ead5-372a-4708-af88-98170f01b37a",
   "metadata": {},
   "source": [
    "**9.** Convert the 'year' column to a datetime type and extract the decade. Create a new column 'Decade' that groups the years into decades (e.g., the 1950s, 1960s)."
   ]
  },
  {
   "cell_type": "code",
   "execution_count": 31,
   "id": "85c86941-1fee-4029-a069-ba91cce5b4ee",
   "metadata": {},
   "outputs": [],
   "source": [
    "gf['year'] = pd.to_datetime(gf['year'],format='%Y')"
   ]
  },
  {
   "cell_type": "code",
   "execution_count": 32,
   "id": "0ea036b4-2b62-4dda-aa7b-493db6229ded",
   "metadata": {},
   "outputs": [],
   "source": [
    "gf['decade'] = (gf['year'].dt.year //10) * 10"
   ]
  },
  {
   "cell_type": "code",
   "execution_count": 33,
   "id": "8b788b72-5b9b-4fa9-8f3e-17288d9ce61a",
   "metadata": {},
   "outputs": [
    {
     "data": {
      "text/html": [
       "<div>\n",
       "<style scoped>\n",
       "    .dataframe tbody tr th:only-of-type {\n",
       "        vertical-align: middle;\n",
       "    }\n",
       "\n",
       "    .dataframe tbody tr th {\n",
       "        vertical-align: top;\n",
       "    }\n",
       "\n",
       "    .dataframe thead th {\n",
       "        text-align: right;\n",
       "    }\n",
       "</style>\n",
       "<table border=\"1\" class=\"dataframe\">\n",
       "  <thead>\n",
       "    <tr style=\"text-align: right;\">\n",
       "      <th></th>\n",
       "      <th>country</th>\n",
       "      <th>year</th>\n",
       "      <th>population</th>\n",
       "      <th>continent</th>\n",
       "      <th>life_exp</th>\n",
       "      <th>gdp_cap</th>\n",
       "      <th>Life_Exp_Range</th>\n",
       "      <th>decade</th>\n",
       "    </tr>\n",
       "  </thead>\n",
       "  <tbody>\n",
       "    <tr>\n",
       "      <th>0</th>\n",
       "      <td>Afghanistan</td>\n",
       "      <td>1952-01-01</td>\n",
       "      <td>8425333</td>\n",
       "      <td>Asia</td>\n",
       "      <td>28.801</td>\n",
       "      <td>779.445314</td>\n",
       "      <td>Medium</td>\n",
       "      <td>1950</td>\n",
       "    </tr>\n",
       "    <tr>\n",
       "      <th>1</th>\n",
       "      <td>Afghanistan</td>\n",
       "      <td>1957-01-01</td>\n",
       "      <td>9240934</td>\n",
       "      <td>Asia</td>\n",
       "      <td>30.332</td>\n",
       "      <td>820.853030</td>\n",
       "      <td>Medium</td>\n",
       "      <td>1950</td>\n",
       "    </tr>\n",
       "    <tr>\n",
       "      <th>2</th>\n",
       "      <td>Afghanistan</td>\n",
       "      <td>1962-01-01</td>\n",
       "      <td>10267083</td>\n",
       "      <td>Asia</td>\n",
       "      <td>31.997</td>\n",
       "      <td>853.100710</td>\n",
       "      <td>Medium</td>\n",
       "      <td>1960</td>\n",
       "    </tr>\n",
       "    <tr>\n",
       "      <th>3</th>\n",
       "      <td>Afghanistan</td>\n",
       "      <td>1967-01-01</td>\n",
       "      <td>11537966</td>\n",
       "      <td>Asia</td>\n",
       "      <td>34.020</td>\n",
       "      <td>836.197138</td>\n",
       "      <td>Medium</td>\n",
       "      <td>1960</td>\n",
       "    </tr>\n",
       "    <tr>\n",
       "      <th>4</th>\n",
       "      <td>Afghanistan</td>\n",
       "      <td>1972-01-01</td>\n",
       "      <td>13079460</td>\n",
       "      <td>Asia</td>\n",
       "      <td>36.088</td>\n",
       "      <td>739.981106</td>\n",
       "      <td>Medium</td>\n",
       "      <td>1970</td>\n",
       "    </tr>\n",
       "  </tbody>\n",
       "</table>\n",
       "</div>"
      ],
      "text/plain": [
       "       country       year  population continent  life_exp     gdp_cap  \\\n",
       "0  Afghanistan 1952-01-01     8425333      Asia    28.801  779.445314   \n",
       "1  Afghanistan 1957-01-01     9240934      Asia    30.332  820.853030   \n",
       "2  Afghanistan 1962-01-01    10267083      Asia    31.997  853.100710   \n",
       "3  Afghanistan 1967-01-01    11537966      Asia    34.020  836.197138   \n",
       "4  Afghanistan 1972-01-01    13079460      Asia    36.088  739.981106   \n",
       "\n",
       "  Life_Exp_Range  decade  \n",
       "0         Medium    1950  \n",
       "1         Medium    1950  \n",
       "2         Medium    1960  \n",
       "3         Medium    1960  \n",
       "4         Medium    1970  "
      ]
     },
     "execution_count": 33,
     "metadata": {},
     "output_type": "execute_result"
    }
   ],
   "source": [
    "gf.head()"
   ]
  },
  {
   "cell_type": "markdown",
   "id": "091cd1af-83d4-453f-b4da-69be69bfe5d3",
   "metadata": {},
   "source": [
    "**10.** Compute the correlation matrix between GDP per capita, life expectancy, and population for the dataset. Then, use Seaborn to visualize this correlation matrix as a heatmap."
   ]
  },
  {
   "cell_type": "code",
   "execution_count": 35,
   "id": "8ee7bb90-dc1b-4ac2-a2e6-672125006279",
   "metadata": {},
   "outputs": [
    {
     "data": {
      "text/html": [
       "<div>\n",
       "<style scoped>\n",
       "    .dataframe tbody tr th:only-of-type {\n",
       "        vertical-align: middle;\n",
       "    }\n",
       "\n",
       "    .dataframe tbody tr th {\n",
       "        vertical-align: top;\n",
       "    }\n",
       "\n",
       "    .dataframe thead th {\n",
       "        text-align: right;\n",
       "    }\n",
       "</style>\n",
       "<table border=\"1\" class=\"dataframe\">\n",
       "  <thead>\n",
       "    <tr style=\"text-align: right;\">\n",
       "      <th></th>\n",
       "      <th>gdp_cap</th>\n",
       "      <th>life_exp</th>\n",
       "      <th>population</th>\n",
       "    </tr>\n",
       "  </thead>\n",
       "  <tbody>\n",
       "    <tr>\n",
       "      <th>gdp_cap</th>\n",
       "      <td>1.000000</td>\n",
       "      <td>0.583706</td>\n",
       "      <td>-0.025600</td>\n",
       "    </tr>\n",
       "    <tr>\n",
       "      <th>life_exp</th>\n",
       "      <td>0.583706</td>\n",
       "      <td>1.000000</td>\n",
       "      <td>0.064955</td>\n",
       "    </tr>\n",
       "    <tr>\n",
       "      <th>population</th>\n",
       "      <td>-0.025600</td>\n",
       "      <td>0.064955</td>\n",
       "      <td>1.000000</td>\n",
       "    </tr>\n",
       "  </tbody>\n",
       "</table>\n",
       "</div>"
      ],
      "text/plain": [
       "             gdp_cap  life_exp  population\n",
       "gdp_cap     1.000000  0.583706   -0.025600\n",
       "life_exp    0.583706  1.000000    0.064955\n",
       "population -0.025600  0.064955    1.000000"
      ]
     },
     "execution_count": 35,
     "metadata": {},
     "output_type": "execute_result"
    }
   ],
   "source": [
    "# creating correlation matrix\n",
    "matrix = gf[['gdp_cap','life_exp','population']].corr()\n",
    "matrix"
   ]
  },
  {
   "cell_type": "code",
   "execution_count": 36,
   "id": "2a9ddb05-2eff-436d-bd06-31dd659be74f",
   "metadata": {},
   "outputs": [
    {
     "data": {
      "image/png": "[encoded data removed]",
      "text/plain": [
       "<Figure size 500x300 with 2 Axes>"
      ]
     },
     "metadata": {},
     "output_type": "display_data"
    }
   ],
   "source": [
    "# heatmap of matrix using seaborn\n",
    "plt.figure(figsize=(5,3))\n",
    "chart = sns.heatmap(matrix, annot=True, cmap='coolwarm', fmt=\".2f\")"
   ]
  },
  {
   "cell_type": "markdown",
   "id": "96eeafbc-907d-4400-a504-8d3d6c176780",
   "metadata": {},
   "source": [
    " "
   ]
  },
  {
   "cell_type": "markdown",
   "id": "4084a576-e5de-487d-b127-533608aabc3b",
   "metadata": {},
   "source": [
    "**11.** How has the global average life expectancy changed from 1952 to 2007? Plot a line graph to visualize this trend."
   ]
  },
  {
   "cell_type": "code",
   "execution_count": 39,
   "id": "3fb93dd5-9e4a-496d-a45c-9925c221ab37",
   "metadata": {},
   "outputs": [
    {
     "data": {
      "text/html": [
       "<div>\n",
       "<style scoped>\n",
       "    .dataframe tbody tr th:only-of-type {\n",
       "        vertical-align: middle;\n",
       "    }\n",
       "\n",
       "    .dataframe tbody tr th {\n",
       "        vertical-align: top;\n",
       "    }\n",
       "\n",
       "    .dataframe thead th {\n",
       "        text-align: right;\n",
       "    }\n",
       "</style>\n",
       "<table border=\"1\" class=\"dataframe\">\n",
       "  <thead>\n",
       "    <tr style=\"text-align: right;\">\n",
       "      <th></th>\n",
       "      <th>year</th>\n",
       "      <th>life_exp</th>\n",
       "    </tr>\n",
       "  </thead>\n",
       "  <tbody>\n",
       "    <tr>\n",
       "      <th>0</th>\n",
       "      <td>1952-01-01</td>\n",
       "      <td>49</td>\n",
       "    </tr>\n",
       "    <tr>\n",
       "      <th>1</th>\n",
       "      <td>1957-01-01</td>\n",
       "      <td>51</td>\n",
       "    </tr>\n",
       "    <tr>\n",
       "      <th>2</th>\n",
       "      <td>1962-01-01</td>\n",
       "      <td>53</td>\n",
       "    </tr>\n",
       "    <tr>\n",
       "      <th>3</th>\n",
       "      <td>1967-01-01</td>\n",
       "      <td>55</td>\n",
       "    </tr>\n",
       "    <tr>\n",
       "      <th>4</th>\n",
       "      <td>1972-01-01</td>\n",
       "      <td>57</td>\n",
       "    </tr>\n",
       "    <tr>\n",
       "      <th>5</th>\n",
       "      <td>1977-01-01</td>\n",
       "      <td>59</td>\n",
       "    </tr>\n",
       "    <tr>\n",
       "      <th>6</th>\n",
       "      <td>1982-01-01</td>\n",
       "      <td>61</td>\n",
       "    </tr>\n",
       "    <tr>\n",
       "      <th>7</th>\n",
       "      <td>1987-01-01</td>\n",
       "      <td>63</td>\n",
       "    </tr>\n",
       "    <tr>\n",
       "      <th>8</th>\n",
       "      <td>1992-01-01</td>\n",
       "      <td>64</td>\n",
       "    </tr>\n",
       "    <tr>\n",
       "      <th>9</th>\n",
       "      <td>1997-01-01</td>\n",
       "      <td>65</td>\n",
       "    </tr>\n",
       "    <tr>\n",
       "      <th>10</th>\n",
       "      <td>2002-01-01</td>\n",
       "      <td>65</td>\n",
       "    </tr>\n",
       "    <tr>\n",
       "      <th>11</th>\n",
       "      <td>2007-01-01</td>\n",
       "      <td>67</td>\n",
       "    </tr>\n",
       "  </tbody>\n",
       "</table>\n",
       "</div>"
      ],
      "text/plain": [
       "         year  life_exp\n",
       "0  1952-01-01        49\n",
       "1  1957-01-01        51\n",
       "2  1962-01-01        53\n",
       "3  1967-01-01        55\n",
       "4  1972-01-01        57\n",
       "5  1977-01-01        59\n",
       "6  1982-01-01        61\n",
       "7  1987-01-01        63\n",
       "8  1992-01-01        64\n",
       "9  1997-01-01        65\n",
       "10 2002-01-01        65\n",
       "11 2007-01-01        67"
      ]
     },
     "execution_count": 39,
     "metadata": {},
     "output_type": "execute_result"
    }
   ],
   "source": [
    "df_11 = gf\n",
    "\n",
    "df_11 = df_11.groupby(['year'])['life_exp'].mean().astype(int).reset_index()\n",
    "df_11"
   ]
  },
  {
   "cell_type": "code",
   "execution_count": 40,
   "id": "f41c1448-abd2-4969-b901-c6568f4252eb",
   "metadata": {},
   "outputs": [
    {
     "data": {
      "image/png": "[encoded data removed]",
      "text/plain": [
       "<Figure size 500x300 with 1 Axes>"
      ]
     },
     "metadata": {},
     "output_type": "display_data"
    }
   ],
   "source": [
    "plt.figure(figsize=(5, 3))\n",
    "plt.title('Global Average Life Expectancy over Years')\n",
    "plt.xlabel('Year')\n",
    "plt.ylabel('Life Expectancy')\n",
    "\n",
    "chart = sns.lineplot(data=df_11, x='year', y='life_exp')"
   ]
  },
  {
   "cell_type": "markdown",
   "id": "fd85ce2e-4fa3-437a-b72c-0a9c37b7012f",
   "metadata": {},
   "source": [
    " "
   ]
  },
  {
   "cell_type": "markdown",
   "id": "3f3ec696-4bde-438e-ba2a-281d63b3ecce",
   "metadata": {},
   "source": [
    "`Subjective Question:` **Discuss the various reasons that could have contributed to the change.**"
   ]
  },
  {
   "cell_type": "code",
   "execution_count": 43,
   "id": "66f6271b-cbd6-493e-b4bc-66150233029f",
   "metadata": {},
   "outputs": [],
   "source": [
    "#df_11 = gf.groupby(['year','continent'])['life_exp'].mean().reset_index()\n",
    "#chart = sns.lineplot(data=df_11, x='year', y='life_exp', hue='continent')"
   ]
  },
  {
   "cell_type": "markdown",
   "id": "674f9ecc-8ac7-4ec4-af02-d3ed92309209",
   "metadata": {},
   "source": [
    "#### Medical Advancements:\n",
    "\n",
    "- **Vaccinations:** Widespread immunization against diseases like polio, measles, and smallpox.\n",
    "- **Antibiotics and Antivirals:** Development and distribution of antibiotics and antiviral medications.\n",
    "- **Surgical Techniques:** Improvements in surgical procedures and post-operative care.\n",
    "\n",
    "#### Public Health Initiatives:\n",
    "\n",
    "- **Sanitation:** Better sanitation and clean water supply.\n",
    "- **Health Education:** Increased awareness and education about health and hygiene.\n",
    "- **Disease Control:** Effective control and eradication of infectious diseases.\n",
    "\n",
    "#### Economic Growth:\n",
    "\n",
    "- **Improved Living Standards:** Higher income levels leading to better nutrition and living conditions.\n",
    "- **Healthcare Access:** Increased access to healthcare services and facilities.\n",
    "\n",
    "#### Technological Innovations:\n",
    "\n",
    "- **Medical Technology:** Advances in medical technology, including diagnostic tools and treatment methods.\n",
    "- **Information Technology:** Use of information technology in healthcare management and delivery.\n",
    "\n",
    "#### Globalization:\n",
    "\n",
    "- **Knowledge Sharing:** Faster dissemination of medical knowledge and practices across the globe.\n",
    "- **International Aid:** Increased international aid and support for health programs in developing countries.\n",
    "Policy and Governance:\n",
    "\n",
    "#### Health Policies: Implementation of effective health policies and programs by governments.\n",
    "- **International Organizations:** Role of international organizations like WHO in promoting global health.\n",
    "  \n",
    "These factors collectively contributed to the significant increase in global average life expectancy from 1952 to 2007."
   ]
  },
  {
   "cell_type": "markdown",
   "id": "b2ef41bb-c2d8-493c-931c-8f36c466472c",
   "metadata": {},
   "source": [
    "  "
   ]
  },
  {
   "cell_type": "markdown",
   "id": "a017a225-85ab-4dc5-8a72-f920da4032cb",
   "metadata": {},
   "source": [
    "**12.** For the year 2007, analyze the relationship between life expectancy and GDP per capita. "
   ]
  },
  {
   "cell_type": "code",
   "execution_count": 47,
   "id": "609e4025-8e17-4c77-8696-5012b5c55dcb",
   "metadata": {},
   "outputs": [
    {
     "data": {
      "text/html": [
       "<div>\n",
       "<style scoped>\n",
       "    .dataframe tbody tr th:only-of-type {\n",
       "        vertical-align: middle;\n",
       "    }\n",
       "\n",
       "    .dataframe tbody tr th {\n",
       "        vertical-align: top;\n",
       "    }\n",
       "\n",
       "    .dataframe thead th {\n",
       "        text-align: right;\n",
       "    }\n",
       "</style>\n",
       "<table border=\"1\" class=\"dataframe\">\n",
       "  <thead>\n",
       "    <tr style=\"text-align: right;\">\n",
       "      <th></th>\n",
       "      <th>life_exp</th>\n",
       "      <th>gdp_cap</th>\n",
       "    </tr>\n",
       "  </thead>\n",
       "  <tbody>\n",
       "    <tr>\n",
       "      <th>life_exp</th>\n",
       "      <td>1.000000</td>\n",
       "      <td>0.678662</td>\n",
       "    </tr>\n",
       "    <tr>\n",
       "      <th>gdp_cap</th>\n",
       "      <td>0.678662</td>\n",
       "      <td>1.000000</td>\n",
       "    </tr>\n",
       "  </tbody>\n",
       "</table>\n",
       "</div>"
      ],
      "text/plain": [
       "          life_exp   gdp_cap\n",
       "life_exp  1.000000  0.678662\n",
       "gdp_cap   0.678662  1.000000"
      ]
     },
     "execution_count": 47,
     "metadata": {},
     "output_type": "execute_result"
    }
   ],
   "source": [
    "df_12 = gf[gf['year'].dt.year==2007]\n",
    "\n",
    "matrix = df_12[['life_exp','gdp_cap']].corr()\n",
    "matrix"
   ]
  },
  {
   "cell_type": "markdown",
   "id": "edd83c05-5e59-4642-a2c2-269bfcb63fd9",
   "metadata": {},
   "source": [
    " "
   ]
  },
  {
   "cell_type": "markdown",
   "id": "afabc91a-98a4-47ba-9626-64869dde86e1",
   "metadata": {},
   "source": [
    "`Subjective Question:` **Is there a noticeable trend or correlation? Represent this using a scatter plot.**"
   ]
  },
  {
   "cell_type": "code",
   "execution_count": 50,
   "id": "aa44653b-1f07-4470-a878-30151fec366d",
   "metadata": {},
   "outputs": [
    {
     "data": {
      "image/png": "[encoded data removed]",
      "text/plain": [
       "<Figure size 500x300 with 1 Axes>"
      ]
     },
     "metadata": {},
     "output_type": "display_data"
    }
   ],
   "source": [
    "# Data titles and labels\n",
    "df_12 = gf[gf['year'].dt.year==2007]\n",
    "plt.figure(figsize=(5, 3))\n",
    "plt.title('Life Expectancy vs GDP per Capita (2007)')\n",
    "plt.xlabel('GDP per Capita')\n",
    "plt.ylabel('Life Expectancy')\n",
    "plt.grid(True)\n",
    "\n",
    "# scatter plot for life expectancy over gdp per capita\n",
    "chart = sns.scatterplot(data=df_12, x='gdp_cap', y='life_exp', hue='continent')"
   ]
  },
  {
   "cell_type": "markdown",
   "id": "a8db5f5b-68ca-4608-80ca-63483346b330",
   "metadata": {},
   "source": [
    "#### Overall Trend"
   ]
  },
  {
   "cell_type": "markdown",
   "id": "62caae83-1481-46f0-bbd9-80798e626545",
   "metadata": {},
   "source": [
    "There is a positive correlation between GDP per capita and life expectancy. As GDP per capita increases, life expectancy also tends to increase."
   ]
  },
  {
   "cell_type": "markdown",
   "id": "2905ca01-ef53-4618-899f-2f2fd14320a4",
   "metadata": {},
   "source": [
    "#### Continental Differences"
   ]
  },
  {
   "cell_type": "markdown",
   "id": "9d232943-bf16-461a-9773-7f3ec4b5b366",
   "metadata": {},
   "source": [
    "`Africa`: African countries generally have lower GDP per capita and lower life expectancy. Most of the green dots are clustered in the lower-left region of the graph.ncy."
   ]
  },
  {
   "cell_type": "markdown",
   "id": "5c6ea578-5c7a-4e52-a92e-03da0b10cf9a",
   "metadata": {},
   "source": [
    "`Asia`: Asian countries show a wide range in GDP per capita and life expectancy. There are countries in Asia with low GDP per capita and low life expectancy, as well as countries with high GDP per capita and high life expectancy."
   ]
  },
  {
   "cell_type": "markdown",
   "id": "9d8ce47a-c2a6-43a7-b716-ce0bdc763931",
   "metadata": {},
   "source": [
    "`Europe`: European countries tend to have higher GDP per capita and higher life expectancy. The orange dots are mostly concentrated in the upper-right region of the graph."
   ]
  },
  {
   "cell_type": "markdown",
   "id": "84846e40-2fcf-4ea8-83ad-4a95106b1aab",
   "metadata": {},
   "source": [
    "`Americas`: Countries in the Americas also show a broad range but tend to cluster towards higher GDP per capita and higher life expectancy, though not as high as Europe."
   ]
  },
  {
   "cell_type": "markdown",
   "id": "7673b269-9b00-4117-8fc1-6a6063fcd3db",
   "metadata": {},
   "source": [
    "`Oceania`: Countries in Oceania (though fewer in number) tend to have high GDP per capita and high life expectancy."
   ]
  },
  {
   "cell_type": "markdown",
   "id": "b400f0b1-7ae2-4d92-b8c5-7f4294b413cb",
   "metadata": {},
   "source": [
    "#### Economic Development and Health"
   ]
  },
  {
   "cell_type": "markdown",
   "id": "75093b85-5986-4301-9b4d-9343c3918c7c",
   "metadata": {},
   "source": [
    "- Countries with higher economic development (higher GDP per capita) tend to have better health outcomes, as indicated by higher life expectancy.\n",
    "- There are diminishing returns at higher levels of GDP per capita where increases in GDP per capita do not result in significant increases in life expectancy."
   ]
  },
  {
   "cell_type": "markdown",
   "id": "d3f6c693-3ec1-4a0b-9303-7c429fad8e88",
   "metadata": {},
   "source": [
    "#### Concentration and Spread"
   ]
  },
  {
   "cell_type": "markdown",
   "id": "352e52c1-c2ca-4bfb-b63c-73a70ee69285",
   "metadata": {},
   "source": [
    "- European countries are the most tightly clustered, suggesting a more uniform standard of living and health outcomes across the continent.\n",
    "- African countries are more spread out, indicating more variability in economic and health outcomes."
   ]
  },
  {
   "cell_type": "markdown",
   "id": "4ae9c2c3-a5e0-4cf6-b825-34750a2a83d7",
   "metadata": {},
   "source": [
    "**In summary, the graph effectively shows the strong link between economic prosperity (GDP per capita) and health outcomes (life expectancy), with clear disparities across different continents. While higher GDP per capita generally correlates with higher life expectancy, there are significant regional variations and outliers that suggest other influencing factors.**"
   ]
  },
  {
   "cell_type": "markdown",
   "id": "9a61be0d-a4f2-43a5-8a98-f84aaf0ef40a",
   "metadata": {},
   "source": [
    " "
   ]
  },
  {
   "cell_type": "markdown",
   "id": "10576ef5-28e4-4c9e-9da6-ddb3f3e7f0d2",
   "metadata": {},
   "source": [
    " "
   ]
  },
  {
   "cell_type": "markdown",
   "id": "b123452c-473e-435d-90c8-4d02f1832769",
   "metadata": {},
   "source": [
    "**13.** Compare the average GDP per capita for each continent in the year 2007. Use a bar chart for this comparison.\r\n"
   ]
  },
  {
   "cell_type": "code",
   "execution_count": 53,
   "id": "96bdf3c0-5234-432a-a1fc-a537df728745",
   "metadata": {},
   "outputs": [
    {
     "data": {
      "text/html": [
       "<div>\n",
       "<style scoped>\n",
       "    .dataframe tbody tr th:only-of-type {\n",
       "        vertical-align: middle;\n",
       "    }\n",
       "\n",
       "    .dataframe tbody tr th {\n",
       "        vertical-align: top;\n",
       "    }\n",
       "\n",
       "    .dataframe thead th {\n",
       "        text-align: right;\n",
       "    }\n",
       "</style>\n",
       "<table border=\"1\" class=\"dataframe\">\n",
       "  <thead>\n",
       "    <tr style=\"text-align: right;\">\n",
       "      <th></th>\n",
       "      <th>continent</th>\n",
       "      <th>gdp_cap</th>\n",
       "    </tr>\n",
       "  </thead>\n",
       "  <tbody>\n",
       "    <tr>\n",
       "      <th>0</th>\n",
       "      <td>Africa</td>\n",
       "      <td>3089</td>\n",
       "    </tr>\n",
       "    <tr>\n",
       "      <th>1</th>\n",
       "      <td>Americas</td>\n",
       "      <td>11003</td>\n",
       "    </tr>\n",
       "    <tr>\n",
       "      <th>2</th>\n",
       "      <td>Asia</td>\n",
       "      <td>12473</td>\n",
       "    </tr>\n",
       "    <tr>\n",
       "      <th>3</th>\n",
       "      <td>Europe</td>\n",
       "      <td>25054</td>\n",
       "    </tr>\n",
       "    <tr>\n",
       "      <th>4</th>\n",
       "      <td>Oceania</td>\n",
       "      <td>29810</td>\n",
       "    </tr>\n",
       "  </tbody>\n",
       "</table>\n",
       "</div>"
      ],
      "text/plain": [
       "  continent  gdp_cap\n",
       "0    Africa     3089\n",
       "1  Americas    11003\n",
       "2      Asia    12473\n",
       "3    Europe    25054\n",
       "4   Oceania    29810"
      ]
     },
     "execution_count": 53,
     "metadata": {},
     "output_type": "execute_result"
    }
   ],
   "source": [
    "df_13 = gf[gf['year'].dt.year==2007]\n",
    "df_13 = df_13.groupby('continent')['gdp_cap'].mean().astype(int).reset_index()\n",
    "df_13"
   ]
  },
  {
   "cell_type": "code",
   "execution_count": 54,
   "id": "0de17ea0-d915-4d5d-a143-be0616c56ec2",
   "metadata": {},
   "outputs": [
    {
     "data": {
      "image/png": "[encoded data removed]",
      "text/plain": [
       "<Figure size 500x300 with 1 Axes>"
      ]
     },
     "metadata": {},
     "output_type": "display_data"
    }
   ],
   "source": [
    "plt.figure(figsize=(5, 3))\n",
    "plt.title('Average GDP per Capita by Continent (2007)')\n",
    "plt.xlabel('Continent')\n",
    "plt.ylabel('Average GDP per Capita')\n",
    "\n",
    "chart = sns.barplot(data=df_13, x='continent', y='gdp_cap')"
   ]
  },
  {
   "cell_type": "markdown",
   "id": "a6760961-b0cd-4d70-83fa-5956362dceca",
   "metadata": {},
   "source": [
    " "
   ]
  },
  {
   "cell_type": "markdown",
   "id": "c50c9cd2-c384-4f57-a416-8df175fa4ee3",
   "metadata": {},
   "source": [
    "`Subjective Question:` **Why is the average GDP per capita for Oceania higher than the Americas even though the Americas have more countries?**\n"
   ]
  },
  {
   "cell_type": "markdown",
   "id": "8d1c6986-4da1-466d-9768-54871e2b9afb",
   "metadata": {},
   "source": [
    "The average GDP per capita for Oceania is higher than the Americas even though the Americas have more countries because Oceania includes countries like Australia and New Zealand, which have very high GDP per capita. In contrast, the Americas include a mix of countries with varying levels of GDP per capita, including some with much lower GDP per capita, which brings down the average."
   ]
  },
  {
   "cell_type": "raw",
   "id": "c43e28db-4e68-4b11-85f6-07aae9502e17",
   "metadata": {},
   "source": []
  },
  {
   "cell_type": "markdown",
   "id": "e590d21f-6006-463d-99e8-054be59c58a4",
   "metadata": {},
   "source": [
    "**14.** Compare the life expectancy and GDP per capita of Afghanistan (a country known for its historical conflicts) and Switzerland (representing a peaceful and economically prosperous country) using the dataset provided.\n"
   ]
  },
  {
   "cell_type": "code",
   "execution_count": 59,
   "id": "517efe01-78a8-4862-8925-1871c6f60e05",
   "metadata": {},
   "outputs": [
    {
     "data": {
      "text/html": [
       "<div>\n",
       "<style scoped>\n",
       "    .dataframe tbody tr th:only-of-type {\n",
       "        vertical-align: middle;\n",
       "    }\n",
       "\n",
       "    .dataframe tbody tr th {\n",
       "        vertical-align: top;\n",
       "    }\n",
       "\n",
       "    .dataframe thead th {\n",
       "        text-align: right;\n",
       "    }\n",
       "</style>\n",
       "<table border=\"1\" class=\"dataframe\">\n",
       "  <thead>\n",
       "    <tr style=\"text-align: right;\">\n",
       "      <th></th>\n",
       "      <th>country</th>\n",
       "      <th>year</th>\n",
       "      <th>population</th>\n",
       "      <th>continent</th>\n",
       "      <th>life_exp</th>\n",
       "      <th>gdp_cap</th>\n",
       "      <th>Life_Exp_Range</th>\n",
       "      <th>decade</th>\n",
       "    </tr>\n",
       "  </thead>\n",
       "  <tbody>\n",
       "    <tr>\n",
       "      <th>11</th>\n",
       "      <td>Afghanistan</td>\n",
       "      <td>2007-01-01</td>\n",
       "      <td>31889923</td>\n",
       "      <td>Asia</td>\n",
       "      <td>43.828</td>\n",
       "      <td>974.580338</td>\n",
       "      <td>Medium</td>\n",
       "      <td>2000</td>\n",
       "    </tr>\n",
       "    <tr>\n",
       "      <th>1487</th>\n",
       "      <td>Switzerland</td>\n",
       "      <td>2007-01-01</td>\n",
       "      <td>7554661</td>\n",
       "      <td>Europe</td>\n",
       "      <td>81.701</td>\n",
       "      <td>37506.419070</td>\n",
       "      <td>Very High</td>\n",
       "      <td>2000</td>\n",
       "    </tr>\n",
       "  </tbody>\n",
       "</table>\n",
       "</div>"
      ],
      "text/plain": [
       "          country       year  population continent  life_exp       gdp_cap  \\\n",
       "11    Afghanistan 2007-01-01    31889923      Asia    43.828    974.580338   \n",
       "1487  Switzerland 2007-01-01     7554661    Europe    81.701  37506.419070   \n",
       "\n",
       "     Life_Exp_Range  decade  \n",
       "11           Medium    2000  \n",
       "1487      Very High    2000  "
      ]
     },
     "execution_count": 59,
     "metadata": {},
     "output_type": "execute_result"
    }
   ],
   "source": [
    "df_14 = gf[(gf['country'].isin(['Afghanistan', 'Switzerland'])) & (gf['year'].dt.year == 2007)]\n",
    "df_14"
   ]
  },
  {
   "cell_type": "markdown",
   "id": "85cb3c84-be7c-4be0-9621-4e95dc5558fc",
   "metadata": {},
   "source": [
    "- Firstly, for the year 2007, use a bar chart to directly compare the life expectancy and GDP per capita between these two countries."
   ]
  },
  {
   "cell_type": "code",
   "execution_count": 61,
   "id": "8868b7dc-ff4a-4156-8398-6347e3a95079",
   "metadata": {},
   "outputs": [
    {
     "name": "stderr",
     "output_type": "stream",
     "text": [
      "C:\\Users\\YASH\\AppData\\Local\\Temp\\ipykernel_38756\\2621151610.py:5: FutureWarning: \n",
      "\n",
      "Passing `palette` without assigning `hue` is deprecated and will be removed in v0.14.0. Assign the `x` variable to `hue` and set `legend=False` for the same effect.\n",
      "\n",
      "  chart1 = sns.barplot(data=df_14, x='country', y='life_exp', ax=ax1[0], palette='viridis')\n",
      "C:\\Users\\YASH\\AppData\\Local\\Temp\\ipykernel_38756\\2621151610.py:11: FutureWarning: \n",
      "\n",
      "Passing `palette` without assigning `hue` is deprecated and will be removed in v0.14.0. Assign the `x` variable to `hue` and set `legend=False` for the same effect.\n",
      "\n",
      "  chart2 = sns.barplot(data=df_14, x='country', y='gdp_cap', ax=ax1[1], palette='viridis')\n"
     ]
    },
    {
     "data": {
      "image/png": "[encoded data removed]",
      "text/plain": [
       "<Figure size 600x300 with 2 Axes>"
      ]
     },
     "metadata": {},
     "output_type": "display_data"
    }
   ],
   "source": [
    "# Plot a bar chart to compare life expectancy and GDP per capita\n",
    "fig, ax1 = plt.subplots(1, 2, figsize=(6, 3))\n",
    "\n",
    "# Bar chart for Life Expectancy\n",
    "chart1 = sns.barplot(data=df_14, x='country', y='life_exp', ax=ax1[0], palette='viridis')\n",
    "ax1[0].set_title('Life Expectancy in 2007')\n",
    "ax1[0].set_ylabel('Life Expectancy')\n",
    "ax1[0].set_xlabel('Country')\n",
    "\n",
    "# Bar chart for GDP per capita\n",
    "chart2 = sns.barplot(data=df_14, x='country', y='gdp_cap', ax=ax1[1], palette='viridis')\n",
    "ax1[1].set_title('GDP per Capita in 2007')\n",
    "ax1[1].set_ylabel('GDP per Capita')\n",
    "ax1[1].set_xlabel('Country')\n",
    "\n",
    "plt.tight_layout()\n",
    "plt.show()"
   ]
  },
  {
   "cell_type": "markdown",
   "id": "09744f6d-9083-4f51-8a70-7680b5163751",
   "metadata": {},
   "source": [
    "- Then, create two separate line graphs to show the trends of these two metrics over all available years in the dataset for both countries."
   ]
  },
  {
   "cell_type": "code",
   "execution_count": 63,
   "id": "e76bf60f-73f2-415d-b3fd-93f1fbf6fee3",
   "metadata": {},
   "outputs": [
    {
     "data": {
      "text/html": [
       "<div>\n",
       "<style scoped>\n",
       "    .dataframe tbody tr th:only-of-type {\n",
       "        vertical-align: middle;\n",
       "    }\n",
       "\n",
       "    .dataframe tbody tr th {\n",
       "        vertical-align: top;\n",
       "    }\n",
       "\n",
       "    .dataframe thead th {\n",
       "        text-align: right;\n",
       "    }\n",
       "</style>\n",
       "<table border=\"1\" class=\"dataframe\">\n",
       "  <thead>\n",
       "    <tr style=\"text-align: right;\">\n",
       "      <th></th>\n",
       "      <th>country</th>\n",
       "      <th>decade</th>\n",
       "      <th>gdp_cap</th>\n",
       "    </tr>\n",
       "  </thead>\n",
       "  <tbody>\n",
       "    <tr>\n",
       "      <th>0</th>\n",
       "      <td>Afghanistan</td>\n",
       "      <td>1950</td>\n",
       "      <td>800</td>\n",
       "    </tr>\n",
       "    <tr>\n",
       "      <th>1</th>\n",
       "      <td>Afghanistan</td>\n",
       "      <td>1960</td>\n",
       "      <td>844</td>\n",
       "    </tr>\n",
       "    <tr>\n",
       "      <th>2</th>\n",
       "      <td>Afghanistan</td>\n",
       "      <td>1970</td>\n",
       "      <td>763</td>\n",
       "    </tr>\n",
       "    <tr>\n",
       "      <th>3</th>\n",
       "      <td>Afghanistan</td>\n",
       "      <td>1980</td>\n",
       "      <td>915</td>\n",
       "    </tr>\n",
       "    <tr>\n",
       "      <th>4</th>\n",
       "      <td>Afghanistan</td>\n",
       "      <td>1990</td>\n",
       "      <td>642</td>\n",
       "    </tr>\n",
       "    <tr>\n",
       "      <th>5</th>\n",
       "      <td>Afghanistan</td>\n",
       "      <td>2000</td>\n",
       "      <td>850</td>\n",
       "    </tr>\n",
       "    <tr>\n",
       "      <th>6</th>\n",
       "      <td>Switzerland</td>\n",
       "      <td>1950</td>\n",
       "      <td>16321</td>\n",
       "    </tr>\n",
       "    <tr>\n",
       "      <th>7</th>\n",
       "      <td>Switzerland</td>\n",
       "      <td>1960</td>\n",
       "      <td>21698</td>\n",
       "    </tr>\n",
       "    <tr>\n",
       "      <th>8</th>\n",
       "      <td>Switzerland</td>\n",
       "      <td>1970</td>\n",
       "      <td>27088</td>\n",
       "    </tr>\n",
       "    <tr>\n",
       "      <th>9</th>\n",
       "      <td>Switzerland</td>\n",
       "      <td>1980</td>\n",
       "      <td>29339</td>\n",
       "    </tr>\n",
       "    <tr>\n",
       "      <th>10</th>\n",
       "      <td>Switzerland</td>\n",
       "      <td>1990</td>\n",
       "      <td>32003</td>\n",
       "    </tr>\n",
       "    <tr>\n",
       "      <th>11</th>\n",
       "      <td>Switzerland</td>\n",
       "      <td>2000</td>\n",
       "      <td>35993</td>\n",
       "    </tr>\n",
       "  </tbody>\n",
       "</table>\n",
       "</div>"
      ],
      "text/plain": [
       "        country  decade  gdp_cap\n",
       "0   Afghanistan    1950      800\n",
       "1   Afghanistan    1960      844\n",
       "2   Afghanistan    1970      763\n",
       "3   Afghanistan    1980      915\n",
       "4   Afghanistan    1990      642\n",
       "5   Afghanistan    2000      850\n",
       "6   Switzerland    1950    16321\n",
       "7   Switzerland    1960    21698\n",
       "8   Switzerland    1970    27088\n",
       "9   Switzerland    1980    29339\n",
       "10  Switzerland    1990    32003\n",
       "11  Switzerland    2000    35993"
      ]
     },
     "execution_count": 63,
     "metadata": {},
     "output_type": "execute_result"
    }
   ],
   "source": [
    "df_14 = gf[(gf['country'].isin(['Afghanistan','Switzerland']))]\n",
    "# grouping by country and decade\n",
    "# then finding average of life expectancy in whole number(integer)\n",
    "df_14.groupby(['country','decade'])['gdp_cap'].mean().astype(int).reset_index()"
   ]
  },
  {
   "cell_type": "code",
   "execution_count": 64,
   "id": "187f86cc-c6f1-41dc-a301-856ebc3e8912",
   "metadata": {},
   "outputs": [
    {
     "data": {
      "image/png": "[encoded data removed]",
      "text/plain": [
       "<Figure size 600x500 with 2 Axes>"
      ]
     },
     "metadata": {},
     "output_type": "display_data"
    }
   ],
   "source": [
    "\n",
    "# Plot line graphs to show the trends of life expectancy and GDP per capita over the years\n",
    "fig, ax2 = plt.subplots(2, 1, figsize=(6,5))\n",
    "\n",
    "# Line graph for life expectancy\n",
    "sns.lineplot(data=df_14, x='year', y='life_exp', hue='country', ax=ax2[0])\n",
    "ax2[0].set_title('Life Expectancy Over the Years')\n",
    "ax2[0].set_ylabel('Life Expectancy')\n",
    "ax2[0].set_xlabel('Year')\n",
    "\n",
    "# Line graph for GDP per capita\n",
    "sns.lineplot(data=df_14, x='year', y='gdp_cap', hue='country', ax=ax2[1])\n",
    "ax2[1].set_title('GDP per Capita Over the Years')\n",
    "ax2[1].set_ylabel('GDP per Capita')\n",
    "ax2[1].set_xlabel('Year')\n",
    "\n",
    "plt.tight_layout()\n",
    "plt.show()"
   ]
  },
  {
   "cell_type": "markdown",
   "id": "b0c0e2b1-70fd-49c9-8223-3b537008d4f4",
   "metadata": {},
   "source": [
    " "
   ]
  },
  {
   "cell_type": "markdown",
   "id": "439154e0-593f-4450-a260-a25ebe8a5a0d",
   "metadata": {},
   "source": [
    "`Subjective Question:` **What differences do you observe in terms of life expectancy and economic development? How might the stability or instability of a country influence these key metrics over time? Analyze the data through these visualizations and discuss your inferences.**"
   ]
  },
  {
   "cell_type": "markdown",
   "id": "712c08af-7ce1-4f70-9e22-853cd275c7b3",
   "metadata": {},
   "source": [
    "#### Observations:\n",
    "\n",
    "`Life Expectancy:`\n",
    "\n",
    "- **Afghanistan:** The life expectancy in Afghanistan has shown a gradual increase over the years but remains significantly lower compared to Switzerland.\n",
    "- **Switzerland:** Switzerland has consistently high life expectancy, with a steady increase over the years.\n",
    "\n",
    "`GDP per Capita:`\n",
    "\n",
    "- **Afghanistan:** The GDP per capita in Afghanistan is relatively low and shows minor fluctuations over the years.\n",
    "- **Switzerland:** Switzerland has a high GDP per capita, which has steadily increased over the years.\n",
    "\n",
    "#### Analysis:\n",
    "\n",
    "`Stability and Life Expectancy:`\n",
    "\n",
    "- **Afghanistan:** The lower life expectancy in Afghanistan can be attributed to various factors, including political instability, lack of access to healthcare, and ongoing conflicts. These factors contribute to higher mortality rates and lower overall life expectancy.\n",
    "- **Switzerland:** The high life expectancy in Switzerland is indicative of a stable and well-developed healthcare system, higher standards of living, and better access to medical services.\n",
    "\n",
    "`Stability and Economic Development:`\n",
    "\n",
    "- **Afghanistan:** The economic development in Afghanistan is hindered by instability, conflicts, and lack of infrastructure. These factors limit economic growth and result in a lower GDP per capita.\n",
    "- **Switzerland:** Switzerland's stable political environment, strong institutions, and robust economic policies contribute to its high GDP per capita. The country's stability attracts investments and promotes economic growth.\n",
    "\n",
    "#### Inferences:\n",
    "\n",
    "- `Impact of Stability:`\n",
    "Stability plays a crucial role in determining both life expectancy and economic development. Countries with stable political environments and strong institutions tend to have higher life expectancy and better economic outcomes.\n",
    "- `Long-term Trends:`\n",
    "The visualizations highlight the long-term trends in life expectancy and GDP per capita, showing how stability and development policies impact these metrics over time.\n",
    "\n",
    "\n",
    "**In summary, the stability or instability of a country significantly influences key metrics such as life expectancy and economic development. Stable countries like Switzerland exhibit higher life expectancy and GDP per capita, while unstable countries like Afghanistan face challenges in improving these metrics.**"
   ]
  },
  {
   "cell_type": "raw",
   "id": "68729e71-71dc-4af6-b1c0-eb9262113d46",
   "metadata": {},
   "source": []
  },
  {
   "cell_type": "markdown",
   "id": "9d7f8052-4162-478f-9f4b-bdbedba26b24",
   "metadata": {},
   "source": [
    "  "
   ]
  },
  {
   "cell_type": "markdown",
   "id": "3cc080f5-c404-4df7-8d09-38d25e1cb6c8",
   "metadata": {},
   "source": [
    "## Extras"
   ]
  },
  {
   "cell_type": "code",
   "execution_count": 69,
   "id": "2fa3ce77-e64f-4f0d-8195-0367825148d8",
   "metadata": {},
   "outputs": [
    {
     "data": {
      "text/plain": [
       "67.0"
      ]
     },
     "execution_count": 69,
     "metadata": {},
     "output_type": "execute_result"
    }
   ],
   "source": [
    "gf['life_exp'][gf['year'].dt.year==2007].mean().round(1)"
   ]
  },
  {
   "cell_type": "code",
   "execution_count": 70,
   "id": "91ed8f9d-aee8-4c51-8f8d-39f390b2fbea",
   "metadata": {},
   "outputs": [
    {
     "data": {
      "text/plain": [
       "11680.1"
      ]
     },
     "execution_count": 70,
     "metadata": {},
     "output_type": "execute_result"
    }
   ],
   "source": [
    "gf['gdp_cap'][gf['year'].dt.year==2007].mean().round(1)"
   ]
  },
  {
   "cell_type": "code",
   "execution_count": 71,
   "id": "175e9977-d2f3-4015-9c42-97d6be60355a",
   "metadata": {},
   "outputs": [
    {
     "data": {
      "text/plain": [
       "6251013179"
      ]
     },
     "execution_count": 71,
     "metadata": {},
     "output_type": "execute_result"
    }
   ],
   "source": [
    "gf['population'][gf['year'].dt.year==2007].sum()"
   ]
  },
  {
   "cell_type": "code",
   "execution_count": null,
   "id": "671f1e8d-30a3-4c55-b024-148607a9a3a9",
   "metadata": {},
   "outputs": [],
   "source": []
  }
 ],
 "metadata": {
  "kernelspec": {
   "display_name": "Python 3",
   "language": "python",
   "name": "python3"
  },
  "language_info": {
   "codemirror_mode": {
    "name": "ipython",
    "version": 3
   },
   "file_extension": ".py",
   "mimetype": "text/x-python",
   "name": "python",
   "nbconvert_exporter": "python",
   "pygments_lexer": "ipython3",
   "version": "3.11.7"
  }
 },
 "nbformat": 4,
 "nbformat_minor": 5
}
